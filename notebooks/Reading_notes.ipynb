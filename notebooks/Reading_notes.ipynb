{
 "cells": [
  {
   "cell_type": "markdown",
   "metadata": {},
   "source": [
    "# Playing with reading in notes, pickling output\n"
   ]
  },
  {
   "cell_type": "code",
   "execution_count": null,
   "metadata": {},
   "outputs": [],
   "source": [
    "import csv\n",
    "import pickle\n",
    "filename = '/Users/pbatra/projects/lil_wayne/data/notes.txt'\n",
    "\n",
    "notes = {}\n",
    "keys = ['hz', 'cm']\n",
    "count = 0\n",
    "with open(filename) as file_:\n",
    "    rows = ( line.split('\\t') for line in file_ )\n",
    "    for row in rows:\n",
    "        #skip header\n",
    "        if count == 0:\n",
    "            pass\n",
    "        else:\n",
    "            if '/' in row[0]:\n",
    "                first_name, second_name = row[0].split('/')\n",
    "            else:\n",
    "                first_name, second_name = row[0], None\n",
    "            notes[first_name.strip()] = {keys[0]:float(row[1]), keys[1]:float(row[2])}\n",
    "            if second_name:\n",
    "                notes[second_name.strip()] = {keys[0]:float(row[1]), keys[1]:float(row[2])}\n",
    "        count += 1\n",
    "pickle.dump(notes, open( \"notes.p\", \"wb\" ) )\n",
    "#notes = pickle.load( open( \"notes.p\", \"rb\" ) )\n",
    "    \n",
    "    "
   ]
  },
  {
   "cell_type": "code",
   "execution_count": null,
   "metadata": {},
   "outputs": [],
   "source": [
    "#str.strip(' 3 ')\n",
    "'  10 3 '.strip()"
   ]
  },
  {
   "cell_type": "code",
   "execution_count": null,
   "metadata": {},
   "outputs": [],
   "source": []
  }
 ],
 "metadata": {
  "language_info": {
   "name": "python",
   "pygments_lexer": "ipython3"
  }
 },
 "nbformat": 4,
 "nbformat_minor": 2
}
