{
 "cells": [
  {
   "cell_type": "markdown",
   "metadata": {},
   "source": [
    "# Playing with reading in notes, pickling output\n"
   ]
  },
  {
   "cell_type": "code",
   "execution_count": null,
   "metadata": {},
   "outputs": [],
   "source": [
    "import csv\n",
    "import pickle\n",
    "filename = '/Users/pbatra/projects/lil_wayne/data/notes.txt'\n",
    "\n",
    "notes = {}\n",
    "keys = ['hz', 'cm']\n",
    "count = 0\n",
    "with open(filename) as file_:\n",
    "    rows = ( line.split('\\t') for line in file_ )\n",
    "    for row in rows:\n",
    "        #skip header\n",
    "        if count == 0:\n",
    "            pass\n",
    "        else:\n",
    "            if '/' in row[0]:\n",
    "                first_name, second_name = row[0].split('/')\n",
    "            else:\n",
    "                first_name, second_name = row[0], None\n",
    "            notes[first_name.strip()] = {keys[0]:float(row[1]), keys[1]:float(row[2])}\n",
    "            if second_name:\n",
    "                notes[second_name.strip()] = {keys[0]:float(row[1]), keys[1]:float(row[2])}\n",
    "        count += 1\n",
    "pickle.dump(notes, open( \"notes.p\", \"wb\" ) )\n",
    "#notes = pickle.load( open( \"notes.p\", \"rb\" ) )\n",
    "    \n",
    "    "
   ]
  },
  {
   "cell_type": "code",
   "execution_count": null,
   "metadata": {},
   "outputs": [],
   "source": [
    "#str.strip(' 3 ')\n",
    "'  10 3 '.strip()"
   ]
  },
  {
   "cell_type": "code",
   "execution_count": null,
   "metadata": {},
   "outputs": [],
   "source": [
    "\n",
    "import IPython.display as ipd\n",
    "from datetime import datetime\n",
    "output_data_directory = os.path.join(DATA_DIR, 'experiments')\n",
    "if not os.path.exists(output_data_directory):\n",
    "    os.mkdir(output_data_directory)\n",
    "date_string = datetime.today().strftime(\"%m_%d_%Y_%H_%M_%S\")\n",
    "test_filename = os.path.join(output_data_directory, 'test_%s.wav' % date_string)\n",
    "#print test_filename\n",
    "sr=22050\n",
    "volume = 0.05\n",
    "x = librosa.core.tone(notes['G#3']['hz'],sr=sr, duration=5.0) + librosa.core.tone(notes['D#3']['hz'],sr=sr, duration=5.0)\n",
    "print x.shape\n",
    "#librosa.output.write_wav(test_filename, x, sr=sr, norm=False)\n",
    "#x, sr = read_play_file(test_filename)\n",
    "\n",
    "librosa.display.waveplot(x[:1000], sr=sr)\n",
    "print test_filename\n",
    "scale = 0.05 * max(x)\n",
    "ipd.Audio(scale* x, rate=sr)\n"
   ]
  },
  {
   "cell_type": "code",
   "execution_count": null,
   "metadata": {},
   "outputs": [],
   "source": [
    "from utilities import array_statistics, read_wav, append_array\n",
    "import numpy as np\n",
    "import librosa, librosa.display\n",
    "import IPython.display as ipd"
   ]
  },
  {
   "cell_type": "code",
   "execution_count": null,
   "metadata": {},
   "outputs": [],
   "source": [
    "x = np.zeros((5, ))\n",
    "#x, sr = append_array(x, 22050, total_duration=5, octave=3, note_array=[('C', 1/8.0)])\n",
    "x, sr = append_array(x, 22050, total_duration=5, octave=4, note_array=[('F', 1/8.0), ('A', 1/8.0), ('A', 1/12.0), ('F', 1/12.0), ('A', 1/12.0), \n",
    "                                ('B', 1/8.0), ('A', 1/4.0), ('F', 1/16.0), ('D', 1/16.0)]) "
   ]
  },
  {
   "cell_type": "code",
   "execution_count": null,
   "metadata": {},
   "outputs": [],
   "source": [
    "librosa.display.waveplot(x[:5000], sr=sr)"
   ]
  },
  {
   "cell_type": "code",
   "execution_count": null,
   "metadata": {},
   "outputs": [],
   "source": [
    "scale = 0.0001 / max(x)\n",
    "ipd.Audio(scale* x, rate=sr)"
   ]
  },
  {
   "cell_type": "code",
   "execution_count": null,
   "metadata": {},
   "outputs": [],
   "source": []
  }
 ],
 "metadata": {
  "language_info": {
   "name": "python",
   "pygments_lexer": "ipython3"
  }
 },
 "nbformat": 4,
 "nbformat_minor": 2
}
