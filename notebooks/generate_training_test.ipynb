{
 "cells": [
  {
   "cell_type": "code",
   "execution_count": null,
   "metadata": {},
   "outputs": [],
   "source": [
    "import IPython.display as ipd\n",
    "import librosa, librosa.display\n",
    "import matplotlib.pyplot as plt\n",
    "import os\n",
    "\n",
    "\n",
    "\n",
    "GPPH_DATA_DIRECTORY = '/Users/pbatra/projects/lil_wayne/data/10_17_2018'\n",
    "\n",
    "gpph_files = [f for f in os.listdir(GPPH_DATA_DIRECTORY) if os.path.isfile(os.path.join(GPPH_DATA_DIRECTORY, f))]\n",
    "print gpph_files\n",
    "\n",
    "for file_ in gpph_files[:1]:\n",
    "    filepath = os.path.join(GPPH_DATA_DIRECTORY, file_)\n",
    "    x,sr = librosa.core.load(filepath, sr=None, mono=True)\n",
    "    ipd.Audio(filepath)\n",
    "    print x.shape, sr\n",
    "    plt.figure(figsize=(14, 5))\n",
    "    librosa.display.waveplot(x, sr=sr)\n",
    "    plt.show()\n",
    "    plt.close()\n",
    "    X = librosa.stft(x)\n",
    "    Xdb = librosa.amplitude_to_db(abs(X))\n",
    "    plt.figure(figsize=(14, 5))\n",
    "    plt.show()\n",
    "    plt.close()\n",
    "    librosa.display.specshow(Xdb, sr=sr, x_axis='time', y_axis='hz')\n"
   ]
  },
  {
   "cell_type": "code",
   "execution_count": null,
   "metadata": {},
   "outputs": [],
   "source": [
    "print filepath\n",
    "ipd.Audio(filepath)"
   ]
  },
  {
   "cell_type": "code",
   "execution_count": null,
   "metadata": {},
   "outputs": [],
   "source": []
  }
 ],
 "metadata": {
  "language_info": {
   "name": "python",
   "pygments_lexer": "ipython3"
  }
 },
 "nbformat": 4,
 "nbformat_minor": 2
}
