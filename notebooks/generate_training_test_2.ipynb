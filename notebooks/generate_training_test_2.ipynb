{
 "cells": [
  {
   "cell_type": "markdown",
   "metadata": {},
   "source": [
    "# General Structure\n",
    "\n",
    "## test vs training\n",
    "* is it even possible to predict a test set with this little data? We have notes and chords as guidance for what the test set should be predicted on. If we don't see those notes or chords elsewhere, do we have any chance of succeeding?\n",
    "* or should we just say fuck it, and try, and if we can make it reasonably far we'll add a few more training inputs (from either Mingus or some other band playing the real book. That way we know how the test set sound could sound)\n",
    "\n",
    "## inputs\n",
    "* amplitude vs time or frequency (what kind of FFT?) vs time\n",
    "* real book vs time\n",
    "    * notes on treble, chords on bass?\n",
    "    * how closely do we have to map it to the song (I think pretty fucking closely)\n",
    "    * how much data per note/chord (there are modifiers, pauses, etc.)\n",
    "    * the Magenta Note Sequence actually looks pretty good for this -- why not use their helper functions to create sequences of notes and chords for input? \n",
    "* is the real book the only input + memory? And we're learning the memory?\n",
    "\n",
    "## model RNN\n",
    "* notice delta compared to the real book -- is that delta consistent?\n",
    "* forgetting or not\n",
    "* bidrectional?\n",
    "* what is the memory? That feels like how the band modifies the notes -- (how we translate the real book to the wave form -- modifications and global sound). \n",
    "* RNN structure:\n",
    "    * output of previous step is the amplitude played, then should be input into the next step, along with real book.\n",
    "    * all a's from previous step should be passed along\n",
    "    * DanQ structure (cnn -> rnn across a reduced space -> fully connected). Rnns keep parameters small, but blow up gradient calculations. \n",
    "    \n",
    "    \n",
    "\n",
    "\n"
   ]
  },
  {
   "cell_type": "code",
   "execution_count": null,
   "metadata": {},
   "outputs": [],
   "source": [
    "import IPython.display as ipd\n",
    "import librosa, librosa.display\n",
    "import matplotlib.pyplot as plt\n",
    "import os\n",
    "\n",
    "\n",
    "\n",
    "GPPH_DATA_DIRECTORY = '/Users/pbatra/projects/lil_wayne/data/10_17_2018'\n",
    "\n",
    "gpph_files = [f for f in os.listdir(GPPH_DATA_DIRECTORY) if os.path.isfile(os.path.join(GPPH_DATA_DIRECTORY, f))]\n",
    "print gpph_files\n",
    "\n",
    "for file_ in gpph_files[:1]:\n",
    "    filepath = os.path.join(GPPH_DATA_DIRECTORY, file_)\n",
    "    x,sr = librosa.core.load(filepath, sr=None, mono=True)\n",
    "    ipd.Audio(filepath)\n",
    "    print x.shape, sr\n",
    "    plt.figure(figsize=(14, 5))\n",
    "    librosa.display.waveplot(x, sr=sr)\n",
    "    plt.show()\n",
    "    plt.close()\n",
    "    X = librosa.stft(x)\n",
    "    Xdb = librosa.amplitude_to_db(abs(X))\n",
    "    librosa.display.specshow(Xdb, y_axis='log', x_axis='time')\n",
    "    plt.title('Power spectrogram')\n",
    "    plt.colorbar(format='%+2.0f dB')\n",
    "    plt.tight_layout()\n",
    "    plt.show()\n",
    "    plt.close()"
   ]
  },
  {
   "cell_type": "code",
   "execution_count": null,
   "metadata": {},
   "outputs": [],
   "source": []
  },
  {
   "cell_type": "code",
   "execution_count": null,
   "metadata": {},
   "outputs": [],
   "source": [
    "print filepath\n",
    "ipd.Audio(filepath)"
   ]
  },
  {
   "cell_type": "code",
   "execution_count": null,
   "metadata": {},
   "outputs": [],
   "source": [
    "librosa.display.waveplot(x[:100], sr=sr)"
   ]
  },
  {
   "cell_type": "code",
   "execution_count": null,
   "metadata": {},
   "outputs": [],
   "source": [
    "Xdb.shape"
   ]
  },
  {
   "cell_type": "code",
   "execution_count": null,
   "metadata": {},
   "outputs": [],
   "source": [
    "librosa.display.specshow(Xdb, y_axis='log', x_axis='time')\n",
    "plt.title('Power spectrogram')\n",
    "plt.colorbar(format='%+2.0f dB')\n",
    "plt.tight_layout()"
   ]
  },
  {
   "cell_type": "code",
   "execution_count": null,
   "metadata": {},
   "outputs": [],
   "source": []
  }
 ],
 "metadata": {
  "language_info": {
   "name": "python",
   "pygments_lexer": "ipython3"
  }
 },
 "nbformat": 4,
 "nbformat_minor": 2
}
